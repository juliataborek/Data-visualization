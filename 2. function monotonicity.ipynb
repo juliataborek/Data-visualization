{
 "cells": [
  {
   "cell_type": "code",
   "execution_count": 90,
   "metadata": {},
   "outputs": [],
   "source": [
    "import numpy as np\n",
    "import pandas as pd\n",
    "import matplotlib.pyplot as plt\n",
    "import seaborn as sns\n",
    "import sympy\n",
    "import random"
   ]
  },
  {
   "cell_type": "code",
   "execution_count": 91,
   "metadata": {},
   "outputs": [],
   "source": [
    "a = random.uniform(0,2)\n",
    "b = random.uniform(2,4)\n",
    "c = random.uniform(4,6)\n",
    "d = random.uniform(6,8)"
   ]
  },
  {
   "cell_type": "code",
   "execution_count": 92,
   "metadata": {},
   "outputs": [
    {
     "name": "stdout",
     "output_type": "stream",
     "text": [
      "1.1936816479547065 2.874016953771088 4.70830933468174 7.434192548639331\n"
     ]
    }
   ],
   "source": [
    "print(a, b, c, d)"
   ]
  },
  {
   "cell_type": "code",
   "execution_count": 93,
   "metadata": {},
   "outputs": [],
   "source": [
    "x = sympy.Symbol('x')\n",
    "y = (x-a)*(x-b)*(x-c)*(x-d)"
   ]
  },
  {
   "cell_type": "code",
   "execution_count": 95,
   "metadata": {},
   "outputs": [
    {
     "data": {
      "text/latex": [
       "$\\displaystyle x^{4} - 16.2102004850469 x^{3} + 87.8251773984452 x^{2} - 184.036342738447 x + 120.081647047702$"
      ],
      "text/plain": [
       "x**4 - 16.2102004850469*x**3 + 87.8251773984452*x**2 - 184.036342738447*x + 120.081647047702"
      ]
     },
     "execution_count": 95,
     "metadata": {},
     "output_type": "execute_result"
    }
   ],
   "source": [
    "sympy.expand(y)"
   ]
  },
  {
   "cell_type": "code",
   "execution_count": 97,
   "metadata": {},
   "outputs": [
    {
     "data": {
      "image/png": "[encoded data removed]",
      "text/plain": [
       "<Figure size 432x288 with 1 Axes>"
      ]
     },
     "metadata": {
      "needs_background": "light"
     },
     "output_type": "display_data"
    }
   ],
   "source": [
    "fig = plt.figure()\n",
    "ax = fig.add_subplot()\n",
    "\n",
    "x = np.arange(0, 10, 0.01)\n",
    "y = (x-a)*(x-b)*(x-c)*(x-d)\n",
    "\n",
    "\n",
    "\n",
    "dydx = np.gradient(y,x)\n",
    "x0 = x[1:][dydx[1:]*dydx[:-1]<0]\n",
    "y0 = y[1:][dydx[1:]*dydx[:-1]<0]\n",
    "ax.scatter([x0[0],x0[1],x0[2]],[y0[0],y0[1],y0[2]], marker = 'o', color = 'black', zorder = 2.5)\n",
    "\n",
    "x1 = np.arange(0,x0[0],0.01)\n",
    "y1 = (x1-a)*(x1-b)*(x1-c)*(x1-d)\n",
    "ax.plot(x1,y1 , color='red')\n",
    "\n",
    "x2 = np.arange(x0[0],x0[1],0.01)\n",
    "y2 = (x2-a)*(x2-b)*(x2-c)*(x2-d)\n",
    "ax.plot(x2,y2 , color='green')\n",
    "\n",
    "x3 = np.arange(x0[1],x0[2],0.01)\n",
    "y3 = (x3-a)*(x3-b)*(x3-c)*(x3-d)\n",
    "ax.plot(x3,y3 , color='red', label = 'maleje')\n",
    "\n",
    "x4 = np.arange(x0[2],10,0.01)\n",
    "y4 = (x4-a)*(x4-b)*(x4-c)*(x4-d)\n",
    "ax.plot(x4,y4 , color='green', label='rośnie')\n",
    "\n",
    "ax.legend(loc='upper right')\n",
    "\n",
    "roznica1 = round(y0[1]-y0[0],3)\n",
    "roznica2 = round(y0[2]-y0[1],3)\n",
    "plt.annotate(roznica1, xy = ((x0[0]+x0[1])/2,(y0[0]+y0[1])/2 + 5),xytext=((x0[0]+x0[1])/2 ,(y0[0]+y0[1])/2 + 50),\n",
    "             arrowprops = dict(facecolor ='blue',shrink = 0.01),)\n",
    "plt.annotate(roznica2, xy = ((x0[2]+x0[1])/2,(y0[2]+y0[1])/2 - 5),xytext=((x0[2]+x0[1])/2 ,(y0[2]+y0[1])/2 - 50),\n",
    "             arrowprops = dict(facecolor ='blue',shrink = 0.01),)\n",
    "\n",
    "\n",
    "\n",
    "ax.set_ylim(-100,200)\n",
    "ax.set_xlim(0,10)\n",
    "ax.set_title('Losowe pierwiastki: {'+str(round(a,4))+','+str(round(b,4))+','+str(round(c,4))+','+str(round(d,4))+'}', fontsize = 10)\n",
    "ax.spines['bottom'].set_position(('data',0))  \n",
    "ax.spines['right'].set_color('none')\n",
    "ax.spines['top'].set_color('none')\n",
    "\n",
    "plt.savefig('02_Tab_272348.pdf')\n",
    "plt.show()"
   ]
  },
  {
   "cell_type": "code",
   "execution_count": null,
   "metadata": {},
   "outputs": [],
   "source": []
  }
 ],
 "metadata": {
  "kernelspec": {
   "display_name": "Python 3",
   "language": "python",
   "name": "python3"
  },
  "language_info": {
   "codemirror_mode": {
    "name": "ipython",
    "version": 3
   },
   "file_extension": ".py",
   "mimetype": "text/x-python",
   "name": "python",
   "nbconvert_exporter": "python",
   "pygments_lexer": "ipython3",
   "version": "3.8.3"
  }
 },
 "nbformat": 4,
 "nbformat_minor": 4
}
