{
 "cells": [
  {
   "cell_type": "code",
   "execution_count": 1,
   "metadata": {},
   "outputs": [],
   "source": [
    "import numpy as np\n",
    "import matplotlib.pyplot as plt\n",
    "import urllib.request\n",
    "from itertools import combinations, chain\n",
    "from collections import Counter"
   ]
  },
  {
   "cell_type": "code",
   "execution_count": 2,
   "metadata": {},
   "outputs": [],
   "source": [
    "url = \"http://www.mbnet.com.pl/dl.txt\"\n",
    "file = urllib.request.urlopen(url)\n",
    "wyniki = [];\n",
    "\n",
    "for line in file:\n",
    "    linia = line.decode(\"utf-8\")\n",
    "    wyniki.append(linia)"
   ]
  },
  {
   "cell_type": "code",
   "execution_count": 3,
   "metadata": {},
   "outputs": [
    {
     "data": {
      "text/plain": [
       "6862"
      ]
     },
     "execution_count": 3,
     "metadata": {},
     "output_type": "execute_result"
    }
   ],
   "source": [
    "len(wyniki)"
   ]
  },
  {
   "cell_type": "code",
   "execution_count": 4,
   "metadata": {},
   "outputs": [
    {
     "data": {
      "text/plain": [
       "'6861. 25.03.2023 3,12,19,31,40,43\\r\\n'"
      ]
     },
     "execution_count": 4,
     "metadata": {},
     "output_type": "execute_result"
    }
   ],
   "source": [
    "wyniki[-2]"
   ]
  },
  {
   "cell_type": "code",
   "execution_count": 5,
   "metadata": {},
   "outputs": [],
   "source": [
    "wyniki1 = []\n",
    "for i in range(-1,-6001,-1):\n",
    "    wyniki1.append(wyniki[i])"
   ]
  },
  {
   "cell_type": "code",
   "execution_count": 6,
   "metadata": {},
   "outputs": [
    {
     "data": {
      "text/plain": [
       "6000"
      ]
     },
     "execution_count": 6,
     "metadata": {},
     "output_type": "execute_result"
    }
   ],
   "source": [
    "len(wyniki1)"
   ]
  },
  {
   "cell_type": "code",
   "execution_count": 7,
   "metadata": {},
   "outputs": [],
   "source": [
    "import pandas as pd"
   ]
  },
  {
   "cell_type": "code",
   "execution_count": 8,
   "metadata": {},
   "outputs": [],
   "source": [
    "df = pd.read_csv(\"http://www.mbnet.com.pl/dl.txt\", header = None, sep = \"[, \\s+]\", engine = 'python')"
   ]
  },
  {
   "cell_type": "code",
   "execution_count": 9,
   "metadata": {},
   "outputs": [],
   "source": [
    "wyniki2 = df.tail(6000)"
   ]
  },
  {
   "cell_type": "code",
   "execution_count": 10,
   "metadata": {},
   "outputs": [
    {
     "data": {
      "text/plain": [
       "6000"
      ]
     },
     "execution_count": 10,
     "metadata": {},
     "output_type": "execute_result"
    }
   ],
   "source": [
    "len(wyniki2)"
   ]
  },
  {
   "cell_type": "code",
   "execution_count": 11,
   "metadata": {},
   "outputs": [
    {
     "data": {
      "text/html": [
       "<div>\n",
       "<style scoped>\n",
       "    .dataframe tbody tr th:only-of-type {\n",
       "        vertical-align: middle;\n",
       "    }\n",
       "\n",
       "    .dataframe tbody tr th {\n",
       "        vertical-align: top;\n",
       "    }\n",
       "\n",
       "    .dataframe thead th {\n",
       "        text-align: right;\n",
       "    }\n",
       "</style>\n",
       "<table border=\"1\" class=\"dataframe\">\n",
       "  <thead>\n",
       "    <tr style=\"text-align: right;\">\n",
       "      <th></th>\n",
       "      <th>0</th>\n",
       "      <th>1</th>\n",
       "      <th>2</th>\n",
       "      <th>3</th>\n",
       "      <th>4</th>\n",
       "      <th>5</th>\n",
       "      <th>6</th>\n",
       "      <th>7</th>\n",
       "    </tr>\n",
       "  </thead>\n",
       "  <tbody>\n",
       "    <tr>\n",
       "      <th>862</th>\n",
       "      <td>863.0</td>\n",
       "      <td>21.01.1973</td>\n",
       "      <td>6</td>\n",
       "      <td>13</td>\n",
       "      <td>17</td>\n",
       "      <td>18</td>\n",
       "      <td>23</td>\n",
       "      <td>33</td>\n",
       "    </tr>\n",
       "    <tr>\n",
       "      <th>863</th>\n",
       "      <td>864.0</td>\n",
       "      <td>28.01.1973</td>\n",
       "      <td>3</td>\n",
       "      <td>17</td>\n",
       "      <td>29</td>\n",
       "      <td>39</td>\n",
       "      <td>40</td>\n",
       "      <td>49</td>\n",
       "    </tr>\n",
       "    <tr>\n",
       "      <th>864</th>\n",
       "      <td>865.0</td>\n",
       "      <td>04.02.1973</td>\n",
       "      <td>6</td>\n",
       "      <td>18</td>\n",
       "      <td>27</td>\n",
       "      <td>29</td>\n",
       "      <td>43</td>\n",
       "      <td>45</td>\n",
       "    </tr>\n",
       "    <tr>\n",
       "      <th>865</th>\n",
       "      <td>866.0</td>\n",
       "      <td>04.02.1973</td>\n",
       "      <td>7</td>\n",
       "      <td>19</td>\n",
       "      <td>20</td>\n",
       "      <td>22</td>\n",
       "      <td>39</td>\n",
       "      <td>43</td>\n",
       "    </tr>\n",
       "    <tr>\n",
       "      <th>866</th>\n",
       "      <td>867.0</td>\n",
       "      <td>11.02.1973</td>\n",
       "      <td>5</td>\n",
       "      <td>18</td>\n",
       "      <td>21</td>\n",
       "      <td>28</td>\n",
       "      <td>29</td>\n",
       "      <td>33</td>\n",
       "    </tr>\n",
       "  </tbody>\n",
       "</table>\n",
       "</div>"
      ],
      "text/plain": [
       "         0           1  2   3   4   5   6   7\n",
       "862  863.0  21.01.1973  6  13  17  18  23  33\n",
       "863  864.0  28.01.1973  3  17  29  39  40  49\n",
       "864  865.0  04.02.1973  6  18  27  29  43  45\n",
       "865  866.0  04.02.1973  7  19  20  22  39  43\n",
       "866  867.0  11.02.1973  5  18  21  28  29  33"
      ]
     },
     "execution_count": 11,
     "metadata": {},
     "output_type": "execute_result"
    }
   ],
   "source": [
    "df3 = pd.DataFrame(wyniki2)\n",
    "df3.head()"
   ]
  },
  {
   "cell_type": "code",
   "execution_count": 12,
   "metadata": {},
   "outputs": [
    {
     "data": {
      "text/plain": [
       "862    21.01.1973\n",
       "Name: 1, dtype: object"
      ]
     },
     "execution_count": 12,
     "metadata": {},
     "output_type": "execute_result"
    }
   ],
   "source": [
    "df3.head(1)[1]"
   ]
  },
  {
   "cell_type": "code",
   "execution_count": 13,
   "metadata": {},
   "outputs": [
    {
     "data": {
      "text/html": [
       "<div>\n",
       "<style scoped>\n",
       "    .dataframe tbody tr th:only-of-type {\n",
       "        vertical-align: middle;\n",
       "    }\n",
       "\n",
       "    .dataframe tbody tr th {\n",
       "        vertical-align: top;\n",
       "    }\n",
       "\n",
       "    .dataframe thead th {\n",
       "        text-align: right;\n",
       "    }\n",
       "</style>\n",
       "<table border=\"1\" class=\"dataframe\">\n",
       "  <thead>\n",
       "    <tr style=\"text-align: right;\">\n",
       "      <th></th>\n",
       "      <th>2</th>\n",
       "      <th>3</th>\n",
       "      <th>4</th>\n",
       "      <th>5</th>\n",
       "      <th>6</th>\n",
       "      <th>7</th>\n",
       "    </tr>\n",
       "  </thead>\n",
       "  <tbody>\n",
       "    <tr>\n",
       "      <th>862</th>\n",
       "      <td>6</td>\n",
       "      <td>13</td>\n",
       "      <td>17</td>\n",
       "      <td>18</td>\n",
       "      <td>23</td>\n",
       "      <td>33</td>\n",
       "    </tr>\n",
       "    <tr>\n",
       "      <th>863</th>\n",
       "      <td>3</td>\n",
       "      <td>17</td>\n",
       "      <td>29</td>\n",
       "      <td>39</td>\n",
       "      <td>40</td>\n",
       "      <td>49</td>\n",
       "    </tr>\n",
       "    <tr>\n",
       "      <th>864</th>\n",
       "      <td>6</td>\n",
       "      <td>18</td>\n",
       "      <td>27</td>\n",
       "      <td>29</td>\n",
       "      <td>43</td>\n",
       "      <td>45</td>\n",
       "    </tr>\n",
       "    <tr>\n",
       "      <th>865</th>\n",
       "      <td>7</td>\n",
       "      <td>19</td>\n",
       "      <td>20</td>\n",
       "      <td>22</td>\n",
       "      <td>39</td>\n",
       "      <td>43</td>\n",
       "    </tr>\n",
       "    <tr>\n",
       "      <th>866</th>\n",
       "      <td>5</td>\n",
       "      <td>18</td>\n",
       "      <td>21</td>\n",
       "      <td>28</td>\n",
       "      <td>29</td>\n",
       "      <td>33</td>\n",
       "    </tr>\n",
       "  </tbody>\n",
       "</table>\n",
       "</div>"
      ],
      "text/plain": [
       "     2   3   4   5   6   7\n",
       "862  6  13  17  18  23  33\n",
       "863  3  17  29  39  40  49\n",
       "864  6  18  27  29  43  45\n",
       "865  7  19  20  22  39  43\n",
       "866  5  18  21  28  29  33"
      ]
     },
     "execution_count": 13,
     "metadata": {},
     "output_type": "execute_result"
    }
   ],
   "source": [
    "df4 = df3.drop(columns = [0,1])\n",
    "df4.head()"
   ]
  },
  {
   "cell_type": "code",
   "execution_count": 14,
   "metadata": {},
   "outputs": [],
   "source": [
    "df5 = df4.values.tolist()"
   ]
  },
  {
   "cell_type": "code",
   "execution_count": 15,
   "metadata": {},
   "outputs": [
    {
     "data": {
      "text/plain": [
       "[(6, 13),\n",
       " (6, 17),\n",
       " (6, 18),\n",
       " (6, 23),\n",
       " (6, 33),\n",
       " (13, 17),\n",
       " (13, 18),\n",
       " (13, 23),\n",
       " (13, 33),\n",
       " (17, 18),\n",
       " (17, 23),\n",
       " (17, 33),\n",
       " (18, 23),\n",
       " (18, 33),\n",
       " (23, 33)]"
      ]
     },
     "execution_count": 15,
     "metadata": {},
     "output_type": "execute_result"
    }
   ],
   "source": [
    "a = list(combinations(df5[0], 2))\n",
    "a"
   ]
  },
  {
   "cell_type": "code",
   "execution_count": 16,
   "metadata": {},
   "outputs": [
    {
     "data": {
      "text/plain": [
       "6000"
      ]
     },
     "execution_count": 16,
     "metadata": {},
     "output_type": "execute_result"
    }
   ],
   "source": [
    "len(df5)"
   ]
  },
  {
   "cell_type": "code",
   "execution_count": 17,
   "metadata": {},
   "outputs": [],
   "source": [
    "dwojki = []\n",
    "for i in range(0,len(df5)):\n",
    "    a = list(combinations(df5[i], 2))\n",
    "    dwojki = dwojki + a"
   ]
  },
  {
   "cell_type": "code",
   "execution_count": 18,
   "metadata": {},
   "outputs": [
    {
     "data": {
      "text/plain": [
       "90000"
      ]
     },
     "execution_count": 18,
     "metadata": {},
     "output_type": "execute_result"
    }
   ],
   "source": [
    "len(dwojki)"
   ]
  },
  {
   "cell_type": "raw",
   "metadata": {},
   "source": [
    "def most_common(dwojki):\n",
    "    data = Counter(dwojki)\n",
    "    return max(dwojki, key=data.get)"
   ]
  },
  {
   "cell_type": "raw",
   "metadata": {},
   "source": [
    "print(most_common(dwojki))"
   ]
  },
  {
   "cell_type": "code",
   "execution_count": 19,
   "metadata": {},
   "outputs": [],
   "source": [
    "c = Counter(dwojki)"
   ]
  },
  {
   "cell_type": "code",
   "execution_count": 20,
   "metadata": {},
   "outputs": [
    {
     "data": {
      "text/plain": [
       "[((21, 39), 108),\n",
       " ((6, 42), 106),\n",
       " ((4, 20), 103),\n",
       " ((4, 27), 102),\n",
       " ((24, 41), 101),\n",
       " ((9, 18), 101),\n",
       " ((31, 42), 100),\n",
       " ((11, 34), 100),\n",
       " ((13, 37), 100),\n",
       " ((34, 36), 99),\n",
       " ((13, 22), 99),\n",
       " ((13, 15), 98),\n",
       " ((7, 46), 98),\n",
       " ((17, 21), 98),\n",
       " ((31, 34), 98),\n",
       " ((4, 29), 97),\n",
       " ((21, 41), 97),\n",
       " ((1, 17), 96),\n",
       " ((16, 24), 96),\n",
       " ((27, 30), 96)]"
      ]
     },
     "execution_count": 20,
     "metadata": {},
     "output_type": "execute_result"
    }
   ],
   "source": [
    "najczestsze = list(c.most_common(20))\n",
    "najczestsze"
   ]
  },
  {
   "cell_type": "code",
   "execution_count": 21,
   "metadata": {},
   "outputs": [],
   "source": [
    "a1 = []\n",
    "for i in range(0, 20):\n",
    "    a1.append(najczestsze[i][0])"
   ]
  },
  {
   "cell_type": "code",
   "execution_count": 22,
   "metadata": {},
   "outputs": [
    {
     "data": {
      "text/plain": [
       "['(21, 39)',\n",
       " '(6, 42)',\n",
       " '(4, 20)',\n",
       " '(4, 27)',\n",
       " '(24, 41)',\n",
       " '(9, 18)',\n",
       " '(31, 42)',\n",
       " '(11, 34)',\n",
       " '(13, 37)',\n",
       " '(34, 36)',\n",
       " '(13, 22)',\n",
       " '(13, 15)',\n",
       " '(7, 46)',\n",
       " '(17, 21)',\n",
       " '(31, 34)',\n",
       " '(4, 29)',\n",
       " '(21, 41)',\n",
       " '(1, 17)',\n",
       " '(16, 24)',\n",
       " '(27, 30)']"
      ]
     },
     "execution_count": 22,
     "metadata": {},
     "output_type": "execute_result"
    }
   ],
   "source": [
    "a11 = list(map(str, a1))\n",
    "a11"
   ]
  },
  {
   "cell_type": "code",
   "execution_count": 23,
   "metadata": {},
   "outputs": [],
   "source": [
    "a2 = []\n",
    "for i in range(0, 20):\n",
    "    a2.append(najczestsze[i][1])"
   ]
  },
  {
   "cell_type": "code",
   "execution_count": 24,
   "metadata": {},
   "outputs": [],
   "source": [
    "import pandas as pd\n",
    "import seaborn as sns"
   ]
  },
  {
   "cell_type": "code",
   "execution_count": 25,
   "metadata": {},
   "outputs": [],
   "source": [
    "c1 = sns.color_palette(\"RdBu\", len(a2))\n",
    "for i in range(1,20):\n",
    "    if a2[i]==a2[i-1]:\n",
    "        c1[i]=c1[i-1]"
   ]
  },
  {
   "cell_type": "code",
   "execution_count": 26,
   "metadata": {},
   "outputs": [
    {
     "data": {
      "image/png": "[encoded data removed]",
      "text/plain": [
       "<Figure size 720x576 with 1 Axes>"
      ]
     },
     "metadata": {
      "needs_background": "light"
     },
     "output_type": "display_data"
    }
   ],
   "source": [
    "fig = plt.figure(figsize=(10,8))\n",
    "ax = fig.add_subplot()\n",
    "\n",
    "plt.bar(a11, a2,color=c1, width = 0.8)\n",
    "for s in ['top', 'right']:\n",
    "    ax.spines[s].set_visible(False)\n",
    "ax.set_xticks([])\n",
    "plt.title('Analiza wyników Lotto. Najczęściej występujące pary w ostatnich 6000 losowaniach: ')\n",
    "for i in ax.patches:\n",
    "    plt.annotate(format(i.get_height()),\n",
    "                   (i.get_x() + i.get_width()/2,\n",
    "                    i.get_height()/ 2), ha='center', va='center',\n",
    "                   size=9, xytext=(0, 8),textcoords='offset points')  \n",
    "\n",
    "for j in range(0,20):\n",
    "        plt.text(x=j - 0.2 , y = a2[j] + 3.5, s = a1[j][0])\n",
    "        plt.text(x=j - 0.2 , y = a2[j] + 0.5, s = a1[j][1])\n",
    "        \n",
    "plt.show()"
   ]
  },
  {
   "cell_type": "code",
   "execution_count": 27,
   "metadata": {},
   "outputs": [
    {
     "name": "stdout",
     "output_type": "stream",
     "text": [
      "Rectangle(xy=(-0.4, 0), width=0.8, height=108, angle=0)\n",
      "Rectangle(xy=(0.6, 0), width=0.8, height=106, angle=0)\n",
      "Rectangle(xy=(1.6, 0), width=0.8, height=103, angle=0)\n",
      "Rectangle(xy=(2.6, 0), width=0.8, height=102, angle=0)\n",
      "Rectangle(xy=(3.6, 0), width=0.8, height=101, angle=0)\n",
      "Rectangle(xy=(4.6, 0), width=0.8, height=101, angle=0)\n",
      "Rectangle(xy=(5.6, 0), width=0.8, height=100, angle=0)\n",
      "Rectangle(xy=(6.6, 0), width=0.8, height=100, angle=0)\n",
      "Rectangle(xy=(7.6, 0), width=0.8, height=100, angle=0)\n",
      "Rectangle(xy=(8.6, 0), width=0.8, height=99, angle=0)\n",
      "Rectangle(xy=(9.6, 0), width=0.8, height=99, angle=0)\n",
      "Rectangle(xy=(10.6, 0), width=0.8, height=98, angle=0)\n",
      "Rectangle(xy=(11.6, 0), width=0.8, height=98, angle=0)\n",
      "Rectangle(xy=(12.6, 0), width=0.8, height=98, angle=0)\n",
      "Rectangle(xy=(13.6, 0), width=0.8, height=98, angle=0)\n",
      "Rectangle(xy=(14.6, 0), width=0.8, height=97, angle=0)\n",
      "Rectangle(xy=(15.6, 0), width=0.8, height=97, angle=0)\n",
      "Rectangle(xy=(16.6, 0), width=0.8, height=96, angle=0)\n",
      "Rectangle(xy=(17.6, 0), width=0.8, height=96, angle=0)\n",
      "Rectangle(xy=(18.6, 0), width=0.8, height=96, angle=0)\n"
     ]
    }
   ],
   "source": [
    "for i in ax.patches:\n",
    "    print(i)"
   ]
  },
  {
   "cell_type": "code",
   "execution_count": 28,
   "metadata": {},
   "outputs": [],
   "source": [
    "p0 = 0\n",
    "p1 = 0\n",
    "p2 = 0\n",
    "p3 = 0\n",
    "p4 = 0\n",
    "p5 = 0\n",
    "p6 = 0\n",
    "for i in range(0,len(df5)):\n",
    "    p = 0\n",
    "    np = 0\n",
    "    for j in range(0,6):\n",
    "        if(df5[i][j]%2==0):\n",
    "            p = p + 1\n",
    "        else: np = np + 1\n",
    "    if (p==6):\n",
    "        p6 = p6 +1\n",
    "    if (p==5):\n",
    "        p5 = p5 +1\n",
    "    if (p==4):\n",
    "        p4 = p4 +1\n",
    "    if (p==3):\n",
    "        p3 = p3 +1\n",
    "    if (p==2):\n",
    "        p2 = p2 +1\n",
    "    if (p==1):\n",
    "        p1 = p1 +1\n",
    "    if (p==0):\n",
    "        p0 = p0 +1"
   ]
  },
  {
   "cell_type": "code",
   "execution_count": 29,
   "metadata": {},
   "outputs": [
    {
     "data": {
      "text/plain": [
       "6000"
      ]
     },
     "execution_count": 29,
     "metadata": {},
     "output_type": "execute_result"
    }
   ],
   "source": [
    "p0+p1+p2+p3+p4+p5+p6"
   ]
  },
  {
   "cell_type": "code",
   "execution_count": 30,
   "metadata": {},
   "outputs": [],
   "source": [
    "p00 = p0/6000\n",
    "p01 = p1/6000\n",
    "p02 = p2/6000\n",
    "p03 = p3/6000\n",
    "p04 = p4/6000\n",
    "p05 = p5/6000\n",
    "p06 = p6/6000"
   ]
  },
  {
   "cell_type": "code",
   "execution_count": 31,
   "metadata": {},
   "outputs": [
    {
     "data": {
      "image/png": "[encoded data removed]",
      "text/plain": [
       "<Figure size 576x576 with 1 Axes>"
      ]
     },
     "metadata": {},
     "output_type": "display_data"
    }
   ],
   "source": [
    "plt.figure(figsize=(8,8))\n",
    "\n",
    "# x = [p00,p01,p02,p03,p04,p05,p06]\n",
    "x = [p0,p1,p2,p3,p4,p5,p6]\n",
    "x1 = sorted(x)\n",
    "\n",
    "plt.pie(x1)\n",
    "\n",
    "\n",
    "\n",
    "plt.show()"
   ]
  },
  {
   "cell_type": "code",
   "execution_count": 32,
   "metadata": {},
   "outputs": [],
   "source": [
    "n = list(c.most_common())\n",
    "l = len(n)\n",
    "sum = 0\n",
    "for i in range(0, l):\n",
    "    sum = sum + n[i][1]\n",
    "\n",
    "linia = sum/l"
   ]
  },
  {
   "cell_type": "code",
   "execution_count": 33,
   "metadata": {},
   "outputs": [
    {
     "data": {
      "image/png": "[encoded data removed]",
      "text/plain": [
       "<Figure size 1152x576 with 2 Axes>"
      ]
     },
     "metadata": {
      "needs_background": "light"
     },
     "output_type": "display_data"
    }
   ],
   "source": [
    "fig = plt.figure(figsize=(16,8))\n",
    "\n",
    "\n",
    "ax1 = plt.subplot(1,2,1)\n",
    "ax1.plot([-0.6,20],[linia,linia],\"-\",color='red',zorder=10)\n",
    "plt.bar(a11, a2,color=c1, width = 0.8)\n",
    "for s in ['top', 'right']:\n",
    "    ax1.spines[s].set_visible(False)\n",
    "ax1.set_xticks([])\n",
    "plt.title('Analiza wyników Lotto.' +\n",
    "          '\\n Pierwsze losowanie: ' + df3.head(1)[1].item() + ' Ostatnie losowanie: ' + df3.tail(1)[1].item() +\n",
    "          '\\n Najczęściej występujące pary w ostatnich 6000 losowaniach:')\n",
    "for i in ax1.patches:\n",
    "    plt.annotate(format(i.get_height()),\n",
    "                   (i.get_x() + i.get_width()/2,\n",
    "                    i.get_height()/ 2), ha='center', va='center',\n",
    "                   size=9, xytext=(0, 8),textcoords='offset points')  \n",
    "\n",
    "for j in range(0,20):\n",
    "        plt.text(x=j - 0.2 , y = a2[j] + 3.5, s = a1[j][0])\n",
    "        plt.text(x=j - 0.2 , y = a2[j] + 0.5, s = a1[j][1])   \n",
    "\n",
    " \n",
    "c2 = list(sns.color_palette(\"OrRd\", 7))\n",
    "ax2=plt.subplot(122)\n",
    "#x = [p00,p01,p02,p03,p04,p05,p06]\n",
    "x = [p0,p1,p2,p3,p4,p5,p6]\n",
    "x1 = sorted(x)\n",
    "labels = [\"0P, 6NP\",\"1P, 5NP\", \"2P, 4NP\", \"3P, 3NP\", \"4P, 2NP\", \"5P, 1NP\", \"6P, 0NP\" ]\n",
    "plt.pie(x1, labels = labels, autopct='%1.2f%%', colors = c2, startangle=90)\n",
    "plt.title(\"Częstość parzystych (P) i nieparzystych (NP) liczb w losowaniu:\")\n",
    "plt.legend()\n",
    "\n",
    "\n",
    "\n",
    "plt.savefig(\"06_Tab_272348\")    \n",
    "plt.show()"
   ]
  },
  {
   "cell_type": "raw",
   "metadata": {},
   "source": [
    "wedgeprops=dict(width=0.5)"
   ]
  }
 ],
 "metadata": {
  "kernelspec": {
   "display_name": "Python 3",
   "language": "python",
   "name": "python3"
  },
  "language_info": {
   "codemirror_mode": {
    "name": "ipython",
    "version": 3
   },
   "file_extension": ".py",
   "mimetype": "text/x-python",
   "name": "python",
   "nbconvert_exporter": "python",
   "pygments_lexer": "ipython3",
   "version": "3.8.3"
  }
 },
 "nbformat": 4,
 "nbformat_minor": 2
}
