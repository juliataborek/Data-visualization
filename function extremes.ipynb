{
 "cells": [
  {
   "cell_type": "code",
   "execution_count": 5,
   "metadata": {},
   "outputs": [
    {
     "data": {
      "text/latex": [
       "$\\displaystyle 5 x_{1}^{3} + 3 x_{1}^{2} - 2 x_{1}$"
      ],
      "text/plain": [
       "5*x1**3 + 3*x1**2 - 2*x1"
      ]
     },
     "execution_count": 5,
     "metadata": {},
     "output_type": "execute_result"
    }
   ],
   "source": [
    "import sympy\n",
    "import numpy as np\n",
    "import matplotlib.pyplot as plt\n",
    "\n",
    "x1 = sympy.Symbol('x1')\n",
    "y1 = 5*x1**3+3*x1**2-2*x1\n",
    "y1"
   ]
  },
  {
   "cell_type": "code",
   "execution_count": 6,
   "metadata": {},
   "outputs": [
    {
     "data": {
      "text/latex": [
       "$\\displaystyle 15 x_{1}^{2} + 6 x_{1} - 2$"
      ],
      "text/plain": [
       "15*x1**2 + 6*x1 - 2"
      ]
     },
     "execution_count": 6,
     "metadata": {},
     "output_type": "execute_result"
    }
   ],
   "source": [
    "y = y1.diff()\n",
    "y"
   ]
  },
  {
   "cell_type": "code",
   "execution_count": 7,
   "metadata": {},
   "outputs": [
    {
     "data": {
      "text/plain": [
       "[-1/5 + sqrt(39)/15, -sqrt(39)/15 - 1/5]"
      ]
     },
     "execution_count": 7,
     "metadata": {},
     "output_type": "execute_result"
    }
   ],
   "source": [
    "sympy.solve(y)"
   ]
  },
  {
   "cell_type": "code",
   "execution_count": 8,
   "metadata": {},
   "outputs": [
    {
     "data": {
      "text/latex": [
       "$\\displaystyle 0.216333199893227$"
      ],
      "text/plain": [
       "0.216333199893227"
      ]
     },
     "execution_count": 8,
     "metadata": {},
     "output_type": "execute_result"
    }
   ],
   "source": [
    "x2 = sympy.N(sympy.solve(y)[0])\n",
    "x2"
   ]
  },
  {
   "cell_type": "code",
   "execution_count": 9,
   "metadata": {},
   "outputs": [
    {
     "data": {
      "text/latex": [
       "$\\displaystyle -0.616333199893227$"
      ],
      "text/plain": [
       "-0.616333199893227"
      ]
     },
     "execution_count": 9,
     "metadata": {},
     "output_type": "execute_result"
    }
   ],
   "source": [
    "x3 = sympy.N(sympy.solve(y)[1])\n",
    "x3"
   ]
  },
  {
   "cell_type": "code",
   "execution_count": 10,
   "metadata": {},
   "outputs": [
    {
     "data": {
      "text/latex": [
       "$\\displaystyle -0.241644213148259$"
      ],
      "text/plain": [
       "-0.241644213148259"
      ]
     },
     "execution_count": 10,
     "metadata": {},
     "output_type": "execute_result"
    }
   ],
   "source": [
    "y2 = y1.subs(x1, x2)\n",
    "y2"
   ]
  },
  {
   "cell_type": "code",
   "execution_count": 11,
   "metadata": {},
   "outputs": [
    {
     "data": {
      "text/latex": [
       "$\\displaystyle 1.20164421314826$"
      ],
      "text/plain": [
       "1.20164421314826"
      ]
     },
     "execution_count": 11,
     "metadata": {},
     "output_type": "execute_result"
    }
   ],
   "source": [
    "y3 = y1.subs(x1, x3)\n",
    "y3"
   ]
  },
  {
   "cell_type": "code",
   "execution_count": 12,
   "metadata": {},
   "outputs": [
    {
     "data": {
      "text/latex": [
       "$\\displaystyle 5 x_{1}^{3} + 3 x_{1}^{2} - 2 x_{1}$"
      ],
      "text/plain": [
       "5*x1**3 + 3*x1**2 - 2*x1"
      ]
     },
     "execution_count": 12,
     "metadata": {},
     "output_type": "execute_result"
    }
   ],
   "source": [
    "x1 = np.arange(float(x2)-2, float(x3)+5, 0.01)\n",
    "y1"
   ]
  },
  {
   "cell_type": "code",
   "execution_count": 18,
   "metadata": {},
   "outputs": [
    {
     "data": {
      "image/png": "[encoded data removed]",
      "text/plain": [
       "<Figure size 432x288 with 1 Axes>"
      ]
     },
     "metadata": {
      "needs_background": "light"
     },
     "output_type": "display_data"
    }
   ],
   "source": [
    "fig = plt.figure()\n",
    "ax = fig.add_subplot()\n",
    "\n",
    "ax.plot(x1, 5*x1**3+3*x1**2-2*x1, color='lightblue', linewidth=5)\n",
    "ax.scatter([x2,x3], [y2, y3], color='black', marker='o')\n",
    "\n",
    "\n",
    "ax.set_xlim(float(x3)-2, float(x2)+3)\n",
    "ax.set_ylim(float(y2)-2, float(y3)+2)\n",
    "ax.set_xticks([float(x2), float(x3)])\n",
    "\n",
    "plt.annotate('5*x1**3+3*x1**2-2*x1', xy = (0.8,2),xytext=(0.8, 2))\n",
    "\n",
    "plt.savefig('01_Tab_272348.pdf')\n",
    "plt.show()"
   ]
  },
  {
   "cell_type": "code",
   "execution_count": null,
   "metadata": {},
   "outputs": [],
   "source": []
  }
 ],
 "metadata": {
  "kernelspec": {
   "display_name": "Python 3",
   "language": "python",
   "name": "python3"
  },
  "language_info": {
   "codemirror_mode": {
    "name": "ipython",
    "version": 3
   },
   "file_extension": ".py",
   "mimetype": "text/x-python",
   "name": "python",
   "nbconvert_exporter": "python",
   "pygments_lexer": "ipython3",
   "version": "3.8.3"
  }
 },
 "nbformat": 4,
 "nbformat_minor": 2
}
